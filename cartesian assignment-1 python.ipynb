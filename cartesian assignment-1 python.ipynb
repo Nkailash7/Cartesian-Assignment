{
 "cells": [
  {
   "cell_type": "code",
   "execution_count": 30,
   "id": "17731841",
   "metadata": {},
   "outputs": [
    {
     "name": "stdout",
     "output_type": "stream",
     "text": [
      "Enter input string: This declaration represents a political commitment among declaration partners to advance a positive vision for the Internet in this era of a united europe\n",
      "Europe united a of era this in Internet the for vision positive a advance to partners declaration among commitment political a represents declaration this\n",
      "a: 3 times\n",
      "this: 2 times\n"
     ]
    }
   ],
   "source": [
    "from collections import Counter\n",
    "\n",
    "sen=input(\"Enter input string: \")\n",
    "a=sen.split()\n",
    "a[0]=a[0].lower()\n",
    "a[-1]=a[-1].capitalize()\n",
    "a.reverse()\n",
    "print(\" \".join(a))\n",
    "Counter = Counter(a)\n",
    "most_occur = Counter.most_common(2)\n",
    "print(f\"{most_occur[0][0]}: {most_occur[0][1]} times\")\n",
    "print(f\"{most_occur[1][0]}: {most_occur[1][1]} times\")\n"
   ]
  }
 ],
 "metadata": {
  "kernelspec": {
   "display_name": "Python 3 (ipykernel)",
   "language": "python",
   "name": "python3"
  },
  "language_info": {
   "codemirror_mode": {
    "name": "ipython",
    "version": 3
   },
   "file_extension": ".py",
   "mimetype": "text/x-python",
   "name": "python",
   "nbconvert_exporter": "python",
   "pygments_lexer": "ipython3",
   "version": "3.9.7"
  }
 },
 "nbformat": 4,
 "nbformat_minor": 5
}
